{
 "cells": [
  {
   "cell_type": "code",
   "execution_count": 1,
   "metadata": {},
   "outputs": [],
   "source": [
    "import pandas as pd"
   ]
  },
  {
   "cell_type": "markdown",
   "metadata": {},
   "source": [
    "# Data Aggregation"
   ]
  },
  {
   "cell_type": "markdown",
   "metadata": {},
   "source": [
    "In the first step, we aggregate the data from the German website: https://www.kohlenhydrate-tabellen.com/naehrwerttabelle/ \n",
    "\n",
    "The data is stored in a csv-file and need to be cleaned before processing"
   ]
  },
  {
   "cell_type": "code",
   "execution_count": 2,
   "metadata": {},
   "outputs": [],
   "source": [
    "df = pd.read_csv('Nährwerte.csv', sep=';', header=None)"
   ]
  },
  {
   "cell_type": "code",
   "execution_count": 3,
   "metadata": {
    "scrolled": true
   },
   "outputs": [
    {
     "data": {
      "text/html": [
       "<div>\n",
       "<style scoped>\n",
       "    .dataframe tbody tr th:only-of-type {\n",
       "        vertical-align: middle;\n",
       "    }\n",
       "\n",
       "    .dataframe tbody tr th {\n",
       "        vertical-align: top;\n",
       "    }\n",
       "\n",
       "    .dataframe thead th {\n",
       "        text-align: right;\n",
       "    }\n",
       "</style>\n",
       "<table border=\"1\" class=\"dataframe\">\n",
       "  <thead>\n",
       "    <tr style=\"text-align: right;\">\n",
       "      <th></th>\n",
       "      <th>0</th>\n",
       "    </tr>\n",
       "  </thead>\n",
       "  <tbody>\n",
       "    <tr>\n",
       "      <th>0</th>\n",
       "      <td>Vollkornbrot</td>\n",
       "    </tr>\n",
       "    <tr>\n",
       "      <th>1</th>\n",
       "      <td>Energie       187,6 Kcal         Magnes.      ...</td>\n",
       "    </tr>\n",
       "    <tr>\n",
       "      <th>2</th>\n",
       "      <td>Wasser         44,0  g           Calcium      ...</td>\n",
       "    </tr>\n",
       "    <tr>\n",
       "      <th>3</th>\n",
       "      <td>Eiweiß          6,5  g           Phosph.      ...</td>\n",
       "    </tr>\n",
       "    <tr>\n",
       "      <th>4</th>\n",
       "      <td>Fett            1,0  g           Eisen        ...</td>\n",
       "    </tr>\n",
       "    <tr>\n",
       "      <th>...</th>\n",
       "      <td>...</td>\n",
       "    </tr>\n",
       "    <tr>\n",
       "      <th>15381</th>\n",
       "      <td>Harnsr.       130,6 mg           Fols.        ...</td>\n",
       "    </tr>\n",
       "    <tr>\n",
       "      <th>15382</th>\n",
       "      <td>tie. EW        14,9  g           Vit. B1      ...</td>\n",
       "    </tr>\n",
       "    <tr>\n",
       "      <th>15383</th>\n",
       "      <td>BST             1,0  g           Vit. B2      ...</td>\n",
       "    </tr>\n",
       "    <tr>\n",
       "      <th>15384</th>\n",
       "      <td>Natrium       154,3 mg           Vit. B6      ...</td>\n",
       "    </tr>\n",
       "    <tr>\n",
       "      <th>15385</th>\n",
       "      <td>Kalium        242,8 mg           Vit. C       ...</td>\n",
       "    </tr>\n",
       "  </tbody>\n",
       "</table>\n",
       "<p>15386 rows × 1 columns</p>\n",
       "</div>"
      ],
      "text/plain": [
       "                                                       0\n",
       "0                                           Vollkornbrot\n",
       "1      Energie       187,6 Kcal         Magnes.      ...\n",
       "2      Wasser         44,0  g           Calcium      ...\n",
       "3      Eiweiß          6,5  g           Phosph.      ...\n",
       "4      Fett            1,0  g           Eisen        ...\n",
       "...                                                  ...\n",
       "15381  Harnsr.       130,6 mg           Fols.        ...\n",
       "15382  tie. EW        14,9  g           Vit. B1      ...\n",
       "15383  BST             1,0  g           Vit. B2      ...\n",
       "15384  Natrium       154,3 mg           Vit. B6      ...\n",
       "15385  Kalium        242,8 mg           Vit. C       ...\n",
       "\n",
       "[15386 rows x 1 columns]"
      ]
     },
     "execution_count": 3,
     "metadata": {},
     "output_type": "execute_result"
    }
   ],
   "source": [
    "df"
   ]
  },
  {
   "cell_type": "markdown",
   "metadata": {},
   "source": [
    "List of all used foods in German"
   ]
  },
  {
   "cell_type": "code",
   "execution_count": 4,
   "metadata": {},
   "outputs": [],
   "source": [
    "#for i in range(0, len(df.index)):\n",
    "#    if ((i+14)%14)==0:\n",
    "#        print(df.iloc[i])"
   ]
  },
  {
   "cell_type": "code",
   "execution_count": 5,
   "metadata": {},
   "outputs": [
    {
     "data": {
      "text/plain": [
       "0    VollkornbrotEnergie       187,6 Kcal         M...\n",
       "dtype: object"
      ]
     },
     "execution_count": 5,
     "metadata": {},
     "output_type": "execute_result"
    }
   ],
   "source": [
    "df.iloc[0] + df.iloc[1]"
   ]
  },
  {
   "cell_type": "code",
   "execution_count": 6,
   "metadata": {},
   "outputs": [
    {
     "data": {
      "text/plain": [
       "0    Vollkornbrot\n",
       "Name: 0, dtype: object"
      ]
     },
     "execution_count": 6,
     "metadata": {},
     "output_type": "execute_result"
    }
   ],
   "source": [
    "df.loc[0]"
   ]
  },
  {
   "cell_type": "markdown",
   "metadata": {},
   "source": [
    "The data is stored in one frame and extended over many rows. In the next step the data is summarized from 14 rows. Afterwards the data is split in many different nutrition dataframes."
   ]
  },
  {
   "cell_type": "code",
   "execution_count": 7,
   "metadata": {},
   "outputs": [],
   "source": [
    "dx = pd.DataFrame()"
   ]
  },
  {
   "cell_type": "code",
   "execution_count": 8,
   "metadata": {},
   "outputs": [],
   "source": [
    "for i in range(0, len(df.index)):\n",
    "    if ((i+14)%14)==0:\n",
    "        t = df.iloc[i] +\" \" + df.iloc[i+1] +\" \"+ df.iloc[i+2]+\" \"+ df.iloc[i+3]+\" \"+ df.iloc[i+4]+\" \"+ df.iloc[i+5]+\" \"+ df.iloc[i+6]+\" \"+ df.iloc[i+7]+\" \"+ df.iloc[i+8]+\" \"+ df.iloc[i+9]+\" \"+ df.iloc[i+10]+\" \"+ df.iloc[i+11]+\" \"+ df.iloc[i+12]+\" \"+ df.iloc[i+13]\n",
    "        dx = dx.append(t, ignore_index=True)"
   ]
  },
  {
   "cell_type": "code",
   "execution_count": 9,
   "metadata": {},
   "outputs": [
    {
     "data": {
      "text/plain": [
       "15386"
      ]
     },
     "execution_count": 9,
     "metadata": {},
     "output_type": "execute_result"
    }
   ],
   "source": [
    "# Länge des Dataframe:\n",
    "df.shape[0]\n",
    "len(df.index)"
   ]
  },
  {
   "cell_type": "code",
   "execution_count": 10,
   "metadata": {},
   "outputs": [
    {
     "data": {
      "text/html": [
       "<div>\n",
       "<style scoped>\n",
       "    .dataframe tbody tr th:only-of-type {\n",
       "        vertical-align: middle;\n",
       "    }\n",
       "\n",
       "    .dataframe tbody tr th {\n",
       "        vertical-align: top;\n",
       "    }\n",
       "\n",
       "    .dataframe thead th {\n",
       "        text-align: right;\n",
       "    }\n",
       "</style>\n",
       "<table border=\"1\" class=\"dataframe\">\n",
       "  <thead>\n",
       "    <tr style=\"text-align: right;\">\n",
       "      <th></th>\n",
       "      <th>0</th>\n",
       "    </tr>\n",
       "  </thead>\n",
       "  <tbody>\n",
       "    <tr>\n",
       "      <th>0</th>\n",
       "      <td>Vollkornbrot Energie       187,6 Kcal         ...</td>\n",
       "    </tr>\n",
       "    <tr>\n",
       "      <th>1</th>\n",
       "      <td>Vollkornbrot mit Ölsamen Energie       203,6 K...</td>\n",
       "    </tr>\n",
       "    <tr>\n",
       "      <th>2</th>\n",
       "      <td>Graubrot-Toastbrot mit Schrot Energie       24...</td>\n",
       "    </tr>\n",
       "    <tr>\n",
       "      <th>3</th>\n",
       "      <td>Graubrot-Weizenmischbrot Energie       219,1 K...</td>\n",
       "    </tr>\n",
       "    <tr>\n",
       "      <th>4</th>\n",
       "      <td>Graubrot-Mehrkornbrot Energie       221,1 Kcal...</td>\n",
       "    </tr>\n",
       "    <tr>\n",
       "      <th>...</th>\n",
       "      <td>...</td>\n",
       "    </tr>\n",
       "    <tr>\n",
       "      <th>1094</th>\n",
       "      <td>Tomatensoße Energie        75,3 Kcal         M...</td>\n",
       "    </tr>\n",
       "    <tr>\n",
       "      <th>1095</th>\n",
       "      <td>Wiener Schnitzel Energie       249,0 Kcal     ...</td>\n",
       "    </tr>\n",
       "    <tr>\n",
       "      <th>1096</th>\n",
       "      <td>Wurst gemischt Energie       324,5 Kcal       ...</td>\n",
       "    </tr>\n",
       "    <tr>\n",
       "      <th>1097</th>\n",
       "      <td>Gemüsemischung roh Energie        21,2 Kcal   ...</td>\n",
       "    </tr>\n",
       "    <tr>\n",
       "      <th>1098</th>\n",
       "      <td>Fisch paniert Energie       201,6 Kcal        ...</td>\n",
       "    </tr>\n",
       "  </tbody>\n",
       "</table>\n",
       "<p>1099 rows × 1 columns</p>\n",
       "</div>"
      ],
      "text/plain": [
       "                                                      0\n",
       "0     Vollkornbrot Energie       187,6 Kcal         ...\n",
       "1     Vollkornbrot mit Ölsamen Energie       203,6 K...\n",
       "2     Graubrot-Toastbrot mit Schrot Energie       24...\n",
       "3     Graubrot-Weizenmischbrot Energie       219,1 K...\n",
       "4     Graubrot-Mehrkornbrot Energie       221,1 Kcal...\n",
       "...                                                 ...\n",
       "1094  Tomatensoße Energie        75,3 Kcal         M...\n",
       "1095  Wiener Schnitzel Energie       249,0 Kcal     ...\n",
       "1096  Wurst gemischt Energie       324,5 Kcal       ...\n",
       "1097  Gemüsemischung roh Energie        21,2 Kcal   ...\n",
       "1098  Fisch paniert Energie       201,6 Kcal        ...\n",
       "\n",
       "[1099 rows x 1 columns]"
      ]
     },
     "execution_count": 10,
     "metadata": {},
     "output_type": "execute_result"
    }
   ],
   "source": [
    "dx"
   ]
  },
  {
   "cell_type": "code",
   "execution_count": 11,
   "metadata": {},
   "outputs": [],
   "source": [
    "dx[['Lebensmittel','Energie in Kcal']]= dx[0].str.split(expand=True, pat='Energie ')"
   ]
  },
  {
   "cell_type": "code",
   "execution_count": 12,
   "metadata": {},
   "outputs": [
    {
     "data": {
      "text/html": [
       "<div>\n",
       "<style scoped>\n",
       "    .dataframe tbody tr th:only-of-type {\n",
       "        vertical-align: middle;\n",
       "    }\n",
       "\n",
       "    .dataframe tbody tr th {\n",
       "        vertical-align: top;\n",
       "    }\n",
       "\n",
       "    .dataframe thead th {\n",
       "        text-align: right;\n",
       "    }\n",
       "</style>\n",
       "<table border=\"1\" class=\"dataframe\">\n",
       "  <thead>\n",
       "    <tr style=\"text-align: right;\">\n",
       "      <th></th>\n",
       "      <th>0</th>\n",
       "      <th>Lebensmittel</th>\n",
       "      <th>Energie in Kcal</th>\n",
       "    </tr>\n",
       "  </thead>\n",
       "  <tbody>\n",
       "    <tr>\n",
       "      <th>0</th>\n",
       "      <td>Vollkornbrot Energie       187,6 Kcal         ...</td>\n",
       "      <td>Vollkornbrot</td>\n",
       "      <td>187,6 Kcal         Magnes.        57,0 m...</td>\n",
       "    </tr>\n",
       "    <tr>\n",
       "      <th>1</th>\n",
       "      <td>Vollkornbrot mit Ölsamen Energie       203,6 K...</td>\n",
       "      <td>Vollkornbrot mit Ölsamen</td>\n",
       "      <td>203,6 Kcal         Magnes.        71,0 m...</td>\n",
       "    </tr>\n",
       "    <tr>\n",
       "      <th>2</th>\n",
       "      <td>Graubrot-Toastbrot mit Schrot Energie       24...</td>\n",
       "      <td>Graubrot-Toastbrot mit Schrot</td>\n",
       "      <td>247,6 Kcal         Magnes.        48,0 m...</td>\n",
       "    </tr>\n",
       "    <tr>\n",
       "      <th>3</th>\n",
       "      <td>Graubrot-Weizenmischbrot Energie       219,1 K...</td>\n",
       "      <td>Graubrot-Weizenmischbrot</td>\n",
       "      <td>219,1 Kcal         Magnes.        40,0 m...</td>\n",
       "    </tr>\n",
       "    <tr>\n",
       "      <th>4</th>\n",
       "      <td>Graubrot-Mehrkornbrot Energie       221,1 Kcal...</td>\n",
       "      <td>Graubrot-Mehrkornbrot</td>\n",
       "      <td>221,1 Kcal         Magnes.        45,0 m...</td>\n",
       "    </tr>\n",
       "    <tr>\n",
       "      <th>...</th>\n",
       "      <td>...</td>\n",
       "      <td>...</td>\n",
       "      <td>...</td>\n",
       "    </tr>\n",
       "    <tr>\n",
       "      <th>1094</th>\n",
       "      <td>Tomatensoße Energie        75,3 Kcal         M...</td>\n",
       "      <td>Tomatensoße</td>\n",
       "      <td>75,3 Kcal         Magnes.        19,9 m...</td>\n",
       "    </tr>\n",
       "    <tr>\n",
       "      <th>1095</th>\n",
       "      <td>Wiener Schnitzel Energie       249,0 Kcal     ...</td>\n",
       "      <td>Wiener Schnitzel</td>\n",
       "      <td>249,0 Kcal         Magnes.        24,0 m...</td>\n",
       "    </tr>\n",
       "    <tr>\n",
       "      <th>1096</th>\n",
       "      <td>Wurst gemischt Energie       324,5 Kcal       ...</td>\n",
       "      <td>Wurst gemischt</td>\n",
       "      <td>324,5 Kcal         Magnes.        23,9 m...</td>\n",
       "    </tr>\n",
       "    <tr>\n",
       "      <th>1097</th>\n",
       "      <td>Gemüsemischung roh Energie        21,2 Kcal   ...</td>\n",
       "      <td>Gemüsemischung roh</td>\n",
       "      <td>21,2 Kcal         Magnes.        13,4 m...</td>\n",
       "    </tr>\n",
       "    <tr>\n",
       "      <th>1098</th>\n",
       "      <td>Fisch paniert Energie       201,6 Kcal        ...</td>\n",
       "      <td>Fisch paniert</td>\n",
       "      <td>201,6 Kcal         Magnes.        23,4 m...</td>\n",
       "    </tr>\n",
       "  </tbody>\n",
       "</table>\n",
       "<p>1099 rows × 3 columns</p>\n",
       "</div>"
      ],
      "text/plain": [
       "                                                      0  \\\n",
       "0     Vollkornbrot Energie       187,6 Kcal         ...   \n",
       "1     Vollkornbrot mit Ölsamen Energie       203,6 K...   \n",
       "2     Graubrot-Toastbrot mit Schrot Energie       24...   \n",
       "3     Graubrot-Weizenmischbrot Energie       219,1 K...   \n",
       "4     Graubrot-Mehrkornbrot Energie       221,1 Kcal...   \n",
       "...                                                 ...   \n",
       "1094  Tomatensoße Energie        75,3 Kcal         M...   \n",
       "1095  Wiener Schnitzel Energie       249,0 Kcal     ...   \n",
       "1096  Wurst gemischt Energie       324,5 Kcal       ...   \n",
       "1097  Gemüsemischung roh Energie        21,2 Kcal   ...   \n",
       "1098  Fisch paniert Energie       201,6 Kcal        ...   \n",
       "\n",
       "                        Lebensmittel  \\\n",
       "0                      Vollkornbrot    \n",
       "1          Vollkornbrot mit Ölsamen    \n",
       "2     Graubrot-Toastbrot mit Schrot    \n",
       "3          Graubrot-Weizenmischbrot    \n",
       "4             Graubrot-Mehrkornbrot    \n",
       "...                              ...   \n",
       "1094                    Tomatensoße    \n",
       "1095               Wiener Schnitzel    \n",
       "1096                 Wurst gemischt    \n",
       "1097             Gemüsemischung roh    \n",
       "1098                  Fisch paniert    \n",
       "\n",
       "                                        Energie in Kcal  \n",
       "0           187,6 Kcal         Magnes.        57,0 m...  \n",
       "1           203,6 Kcal         Magnes.        71,0 m...  \n",
       "2           247,6 Kcal         Magnes.        48,0 m...  \n",
       "3           219,1 Kcal         Magnes.        40,0 m...  \n",
       "4           221,1 Kcal         Magnes.        45,0 m...  \n",
       "...                                                 ...  \n",
       "1094         75,3 Kcal         Magnes.        19,9 m...  \n",
       "1095        249,0 Kcal         Magnes.        24,0 m...  \n",
       "1096        324,5 Kcal         Magnes.        23,9 m...  \n",
       "1097         21,2 Kcal         Magnes.        13,4 m...  \n",
       "1098        201,6 Kcal         Magnes.        23,4 m...  \n",
       "\n",
       "[1099 rows x 3 columns]"
      ]
     },
     "execution_count": 12,
     "metadata": {},
     "output_type": "execute_result"
    }
   ],
   "source": [
    "dx"
   ]
  },
  {
   "cell_type": "code",
   "execution_count": 13,
   "metadata": {},
   "outputs": [],
   "source": [
    "dx[['Energie in Kcal', 'Magnesium in mg']]= dx['Energie in Kcal'].str.split(expand=True, pat='Magnes.')"
   ]
  },
  {
   "cell_type": "code",
   "execution_count": 14,
   "metadata": {},
   "outputs": [],
   "source": [
    "dx[['Magnesium in mg', 'Wasser in g']]= dx['Magnesium in mg'].str.split(expand=True, pat='Wasser')"
   ]
  },
  {
   "cell_type": "code",
   "execution_count": 15,
   "metadata": {},
   "outputs": [],
   "source": [
    "dx[['Wasser in g', 'Calcium in mg']]= dx['Wasser in g'].str.split(expand=True, pat='Calcium')"
   ]
  },
  {
   "cell_type": "code",
   "execution_count": 16,
   "metadata": {},
   "outputs": [],
   "source": [
    "dx[['Calcium in mg', 'Eiweiß in g']]= dx['Calcium in mg'].str.split(expand=True, pat='Eiweiß')"
   ]
  },
  {
   "cell_type": "code",
   "execution_count": 17,
   "metadata": {},
   "outputs": [],
   "source": [
    "dx[['Eiweiß in g', 'Phosph. in mg']]= dx['Eiweiß in g'].str.split(expand=True, pat='Phosph.')"
   ]
  },
  {
   "cell_type": "code",
   "execution_count": 18,
   "metadata": {},
   "outputs": [],
   "source": [
    "dx[['Phosph. in mg', 'Fett in g']]= dx['Phosph. in mg'].str.split(expand=True, pat='Fett')"
   ]
  },
  {
   "cell_type": "code",
   "execution_count": 19,
   "metadata": {},
   "outputs": [],
   "source": [
    "dx[['Fett in g', 'Eisen in mg']]= dx['Fett in g'].str.split(expand=True, pat='Eisen')"
   ]
  },
  {
   "cell_type": "code",
   "execution_count": 20,
   "metadata": {},
   "outputs": [],
   "source": [
    "dx[['Eisen in mg', 'KH in g']]= dx['Eisen in mg'].str.split(expand=True, pat='KH')"
   ]
  },
  {
   "cell_type": "code",
   "execution_count": 21,
   "metadata": {},
   "outputs": [],
   "source": [
    "dx[['KH in g','Zink in mg']]= dx['KH in g'].str.split(expand=True, pat='Zink')"
   ]
  },
  {
   "cell_type": "code",
   "execution_count": 22,
   "metadata": {},
   "outputs": [],
   "source": [
    "dx[['Zink in mg', 'ung. FS in g']]= dx['Zink in mg'].str.split(expand=True, pat='ung. FS')"
   ]
  },
  {
   "cell_type": "code",
   "execution_count": 23,
   "metadata": {},
   "outputs": [],
   "source": [
    "dx[['ung. FS in g', 'Vit. A in µg']]= dx['ung. FS in g'].str.split(expand=True, pat='Vit. A.')"
   ]
  },
  {
   "cell_type": "code",
   "execution_count": 24,
   "metadata": {},
   "outputs": [],
   "source": [
    "dx[['Vit. A in µg', 'Chol. in mg']]= dx['Vit. A in µg'].str.split(expand=True, pat='Chol.')"
   ]
  },
  {
   "cell_type": "code",
   "execution_count": 25,
   "metadata": {},
   "outputs": [],
   "source": [
    "dx[['Chol. in mg', 'Carotin in mg']]= dx['Chol. in mg'].str.split(expand=True, pat='Carotin')"
   ]
  },
  {
   "cell_type": "code",
   "execution_count": 26,
   "metadata": {},
   "outputs": [],
   "source": [
    "dx[['Carotin in mg','Alkohol in g']]= dx['Carotin in mg'].str.split(expand=True, pat='Alkohol')"
   ]
  },
  {
   "cell_type": "code",
   "execution_count": 27,
   "metadata": {},
   "outputs": [],
   "source": [
    "dx[['Alkohol in g', 'Vit. E in mg']]= dx['Alkohol in g'].str.split(expand=True, pat='Vit. E')"
   ]
  },
  {
   "cell_type": "code",
   "execution_count": 28,
   "metadata": {},
   "outputs": [],
   "source": [
    "dx[['Vit. E in mg','Harnsr. in mg']]= dx['Vit. E in mg'].str.split(expand=True, pat='Harnsr.')"
   ]
  },
  {
   "cell_type": "code",
   "execution_count": 29,
   "metadata": {},
   "outputs": [],
   "source": [
    "dx[['Harnsr. in mg', 'Fols. in µg']]= dx['Harnsr. in mg'].str.split(expand=True, pat='Fols.')"
   ]
  },
  {
   "cell_type": "code",
   "execution_count": 30,
   "metadata": {},
   "outputs": [],
   "source": [
    "dx[['Fols. in µg', 'tie. EW in g']]= dx['Fols. in µg'].str.split(expand=True, pat='tie. EW')"
   ]
  },
  {
   "cell_type": "code",
   "execution_count": 31,
   "metadata": {},
   "outputs": [],
   "source": [
    "dx[['tie. EW in g', 'Vit. B1 in mg']]= dx['tie. EW in g'].str.split(expand=True, pat='Vit. B1')"
   ]
  },
  {
   "cell_type": "code",
   "execution_count": 32,
   "metadata": {},
   "outputs": [],
   "source": [
    "dx[['Vit. B1 in mg', 'BST in g']]= dx['Vit. B1 in mg'].str.split(expand=True, pat='BST')"
   ]
  },
  {
   "cell_type": "code",
   "execution_count": 33,
   "metadata": {},
   "outputs": [],
   "source": [
    "dx[['BST in g', 'Vit. B2 in mg']]= dx['BST in g'].str.split(expand=True, pat='Vit. B2')"
   ]
  },
  {
   "cell_type": "code",
   "execution_count": 34,
   "metadata": {},
   "outputs": [],
   "source": [
    "dx[['Vit. B2 in mg', 'Natrium in mg']]= dx['Vit. B2 in mg'].str.split(expand=True, pat='Natrium')"
   ]
  },
  {
   "cell_type": "code",
   "execution_count": 35,
   "metadata": {},
   "outputs": [],
   "source": [
    "dx[['Natrium in mg', 'Vit. B6 in mg']]= dx['Natrium in mg'].str.split(expand=True, pat='Vit. B6')"
   ]
  },
  {
   "cell_type": "code",
   "execution_count": 36,
   "metadata": {},
   "outputs": [],
   "source": [
    "dx[['Vit. B6 in mg', 'Kalium in mg']]= dx['Vit. B6 in mg'].str.split(expand=True, pat='Kalium')"
   ]
  },
  {
   "cell_type": "code",
   "execution_count": 37,
   "metadata": {},
   "outputs": [],
   "source": [
    "dx[['Kalium in mg', 'Vit. C in mg']]= dx['Kalium in mg'].str.split(expand=True, pat='Vit. C')"
   ]
  },
  {
   "cell_type": "code",
   "execution_count": 38,
   "metadata": {},
   "outputs": [
    {
     "data": {
      "text/html": [
       "<div>\n",
       "<style scoped>\n",
       "    .dataframe tbody tr th:only-of-type {\n",
       "        vertical-align: middle;\n",
       "    }\n",
       "\n",
       "    .dataframe tbody tr th {\n",
       "        vertical-align: top;\n",
       "    }\n",
       "\n",
       "    .dataframe thead th {\n",
       "        text-align: right;\n",
       "    }\n",
       "</style>\n",
       "<table border=\"1\" class=\"dataframe\">\n",
       "  <thead>\n",
       "    <tr style=\"text-align: right;\">\n",
       "      <th></th>\n",
       "      <th>0</th>\n",
       "      <th>Lebensmittel</th>\n",
       "      <th>Energie in Kcal</th>\n",
       "      <th>Magnesium in mg</th>\n",
       "      <th>Wasser in g</th>\n",
       "      <th>Calcium in mg</th>\n",
       "      <th>Eiweiß in g</th>\n",
       "      <th>Phosph. in mg</th>\n",
       "      <th>Fett in g</th>\n",
       "      <th>Eisen in mg</th>\n",
       "      <th>...</th>\n",
       "      <th>Harnsr. in mg</th>\n",
       "      <th>Fols. in µg</th>\n",
       "      <th>tie. EW in g</th>\n",
       "      <th>Vit. B1 in mg</th>\n",
       "      <th>BST in g</th>\n",
       "      <th>Vit. B2 in mg</th>\n",
       "      <th>Natrium in mg</th>\n",
       "      <th>Vit. B6 in mg</th>\n",
       "      <th>Kalium in mg</th>\n",
       "      <th>Vit. C in mg</th>\n",
       "    </tr>\n",
       "  </thead>\n",
       "  <tbody>\n",
       "    <tr>\n",
       "      <th>0</th>\n",
       "      <td>Vollkornbrot Energie       187,6 Kcal         ...</td>\n",
       "      <td>Vollkornbrot</td>\n",
       "      <td>187,6 Kcal</td>\n",
       "      <td>57,0 mg</td>\n",
       "      <td>44,0  g</td>\n",
       "      <td>22,0 mg</td>\n",
       "      <td>6,5  g</td>\n",
       "      <td>232,0 mg</td>\n",
       "      <td>1,0  g</td>\n",
       "      <td>2,7 mg</td>\n",
       "      <td>...</td>\n",
       "      <td>57,0 mg</td>\n",
       "      <td>15,0 µg</td>\n",
       "      <td>0,0  g</td>\n",
       "      <td>0,1 mg</td>\n",
       "      <td>8,5  g</td>\n",
       "      <td>0,1 mg</td>\n",
       "      <td>562,0 mg</td>\n",
       "      <td>0,2 mg</td>\n",
       "      <td>289,0 mg</td>\n",
       "      <td>0,0 mg</td>\n",
       "    </tr>\n",
       "    <tr>\n",
       "      <th>1</th>\n",
       "      <td>Vollkornbrot mit Ölsamen Energie       203,6 K...</td>\n",
       "      <td>Vollkornbrot mit Ölsamen</td>\n",
       "      <td>203,6 Kcal</td>\n",
       "      <td>71,0 mg</td>\n",
       "      <td>42,4  g</td>\n",
       "      <td>25,0 mg</td>\n",
       "      <td>7,1  g</td>\n",
       "      <td>248,0 mg</td>\n",
       "      <td>3,0  g</td>\n",
       "      <td>2,8 mg</td>\n",
       "      <td>...</td>\n",
       "      <td>61,0 mg</td>\n",
       "      <td>17,0 µg</td>\n",
       "      <td>0,0  g</td>\n",
       "      <td>0,2 mg</td>\n",
       "      <td>8,4  g</td>\n",
       "      <td>0,1 mg</td>\n",
       "      <td>539,0 mg</td>\n",
       "      <td>0,2 mg</td>\n",
       "      <td>306,0 mg</td>\n",
       "      <td>0,0 mg</td>\n",
       "    </tr>\n",
       "    <tr>\n",
       "      <th>2</th>\n",
       "      <td>Graubrot-Toastbrot mit Schrot Energie       24...</td>\n",
       "      <td>Graubrot-Toastbrot mit Schrot</td>\n",
       "      <td>247,6 Kcal</td>\n",
       "      <td>48,0 mg</td>\n",
       "      <td>35,7  g</td>\n",
       "      <td>41,0 mg</td>\n",
       "      <td>7,2  g</td>\n",
       "      <td>181,0 mg</td>\n",
       "      <td>3,5  g</td>\n",
       "      <td>2,2 mg</td>\n",
       "      <td>...</td>\n",
       "      <td>74,0 mg</td>\n",
       "      <td>22,0 µg</td>\n",
       "      <td>0,5  g</td>\n",
       "      <td>0,2 mg</td>\n",
       "      <td>4,9  g</td>\n",
       "      <td>0,2 mg</td>\n",
       "      <td>507,0 mg</td>\n",
       "      <td>0,2 mg</td>\n",
       "      <td>240,0 mg</td>\n",
       "      <td>0,1 mg</td>\n",
       "    </tr>\n",
       "    <tr>\n",
       "      <th>3</th>\n",
       "      <td>Graubrot-Weizenmischbrot Energie       219,1 K...</td>\n",
       "      <td>Graubrot-Weizenmischbrot</td>\n",
       "      <td>219,1 Kcal</td>\n",
       "      <td>40,0 mg</td>\n",
       "      <td>41,0  g</td>\n",
       "      <td>22,0 mg</td>\n",
       "      <td>7,1  g</td>\n",
       "      <td>130,0 mg</td>\n",
       "      <td>0,9  g</td>\n",
       "      <td>1,7 mg</td>\n",
       "      <td>...</td>\n",
       "      <td>49,0 mg</td>\n",
       "      <td>12,0 µg</td>\n",
       "      <td>0,0  g</td>\n",
       "      <td>0,2 mg</td>\n",
       "      <td>3,9  g</td>\n",
       "      <td>0,1 mg</td>\n",
       "      <td>508,0 mg</td>\n",
       "      <td>0,1 mg</td>\n",
       "      <td>157,0 mg</td>\n",
       "      <td>0,0 mg</td>\n",
       "    </tr>\n",
       "    <tr>\n",
       "      <th>4</th>\n",
       "      <td>Graubrot-Mehrkornbrot Energie       221,1 Kcal...</td>\n",
       "      <td>Graubrot-Mehrkornbrot</td>\n",
       "      <td>221,1 Kcal</td>\n",
       "      <td>45,0 mg</td>\n",
       "      <td>40,2  g</td>\n",
       "      <td>25,0 mg</td>\n",
       "      <td>6,1  g</td>\n",
       "      <td>142,0 mg</td>\n",
       "      <td>1,0  g</td>\n",
       "      <td>1,9 mg</td>\n",
       "      <td>...</td>\n",
       "      <td>53,0 mg</td>\n",
       "      <td>13,0 µg</td>\n",
       "      <td>0,0  g</td>\n",
       "      <td>0,2 mg</td>\n",
       "      <td>4,7  g</td>\n",
       "      <td>0,1 mg</td>\n",
       "      <td>417,0 mg</td>\n",
       "      <td>0,2 mg</td>\n",
       "      <td>176,0 mg</td>\n",
       "      <td>0,0 mg</td>\n",
       "    </tr>\n",
       "    <tr>\n",
       "      <th>...</th>\n",
       "      <td>...</td>\n",
       "      <td>...</td>\n",
       "      <td>...</td>\n",
       "      <td>...</td>\n",
       "      <td>...</td>\n",
       "      <td>...</td>\n",
       "      <td>...</td>\n",
       "      <td>...</td>\n",
       "      <td>...</td>\n",
       "      <td>...</td>\n",
       "      <td>...</td>\n",
       "      <td>...</td>\n",
       "      <td>...</td>\n",
       "      <td>...</td>\n",
       "      <td>...</td>\n",
       "      <td>...</td>\n",
       "      <td>...</td>\n",
       "      <td>...</td>\n",
       "      <td>...</td>\n",
       "      <td>...</td>\n",
       "      <td>...</td>\n",
       "    </tr>\n",
       "    <tr>\n",
       "      <th>1094</th>\n",
       "      <td>Tomatensoße Energie        75,3 Kcal         M...</td>\n",
       "      <td>Tomatensoße</td>\n",
       "      <td>75,3 Kcal</td>\n",
       "      <td>19,9 mg</td>\n",
       "      <td>83,5  g</td>\n",
       "      <td>20,3 mg</td>\n",
       "      <td>1,6  g</td>\n",
       "      <td>33,9 mg</td>\n",
       "      <td>4,4  g</td>\n",
       "      <td>0,7 mg</td>\n",
       "      <td>...</td>\n",
       "      <td>13,6 mg</td>\n",
       "      <td>5,9 µg</td>\n",
       "      <td>0,0  g</td>\n",
       "      <td>0,0 mg</td>\n",
       "      <td>2,3  g</td>\n",
       "      <td>0,0 mg</td>\n",
       "      <td>338,8 mg</td>\n",
       "      <td>0,1 mg</td>\n",
       "      <td>346,8 mg</td>\n",
       "      <td>12,7 mg</td>\n",
       "    </tr>\n",
       "    <tr>\n",
       "      <th>1095</th>\n",
       "      <td>Wiener Schnitzel Energie       249,0 Kcal     ...</td>\n",
       "      <td>Wiener Schnitzel</td>\n",
       "      <td>249,0 Kcal</td>\n",
       "      <td>24,0 mg</td>\n",
       "      <td>59,7  g</td>\n",
       "      <td>8,5 mg</td>\n",
       "      <td>17,3  g</td>\n",
       "      <td>171,2 mg</td>\n",
       "      <td>15,4  g</td>\n",
       "      <td>1,5 mg</td>\n",
       "      <td>...</td>\n",
       "      <td>118,5 mg</td>\n",
       "      <td>4,7 µg</td>\n",
       "      <td>16,4  g</td>\n",
       "      <td>0,7 mg</td>\n",
       "      <td>0,4  g</td>\n",
       "      <td>0,2 mg</td>\n",
       "      <td>93,0 mg</td>\n",
       "      <td>0,4 mg</td>\n",
       "      <td>324,4 mg</td>\n",
       "      <td>0,0 mg</td>\n",
       "    </tr>\n",
       "    <tr>\n",
       "      <th>1096</th>\n",
       "      <td>Wurst gemischt Energie       324,5 Kcal       ...</td>\n",
       "      <td>Wurst gemischt</td>\n",
       "      <td>324,5 Kcal</td>\n",
       "      <td>23,9 mg</td>\n",
       "      <td>51,9  g</td>\n",
       "      <td>19,9 mg</td>\n",
       "      <td>15,6  g</td>\n",
       "      <td>231,9 mg</td>\n",
       "      <td>28,8  g</td>\n",
       "      <td>3,0 mg</td>\n",
       "      <td>...</td>\n",
       "      <td>124,0 mg</td>\n",
       "      <td>5,7 µg</td>\n",
       "      <td>15,4  g</td>\n",
       "      <td>0,5 mg</td>\n",
       "      <td>0,1  g</td>\n",
       "      <td>0,3 mg</td>\n",
       "      <td>914,7 mg</td>\n",
       "      <td>0,3 mg</td>\n",
       "      <td>293,7 mg</td>\n",
       "      <td>13,1 mg</td>\n",
       "    </tr>\n",
       "    <tr>\n",
       "      <th>1097</th>\n",
       "      <td>Gemüsemischung roh Energie        21,2 Kcal   ...</td>\n",
       "      <td>Gemüsemischung roh</td>\n",
       "      <td>21,2 Kcal</td>\n",
       "      <td>13,4 mg</td>\n",
       "      <td>92,3  g</td>\n",
       "      <td>20,1 mg</td>\n",
       "      <td>1,0  g</td>\n",
       "      <td>28,1 mg</td>\n",
       "      <td>0,3  g</td>\n",
       "      <td>0,8 mg</td>\n",
       "      <td>...</td>\n",
       "      <td>11,5 mg</td>\n",
       "      <td>18,1 µg</td>\n",
       "      <td>0,0  g</td>\n",
       "      <td>0,0 mg</td>\n",
       "      <td>2,0  g</td>\n",
       "      <td>0,1 mg</td>\n",
       "      <td>17,1 mg</td>\n",
       "      <td>0,1 mg</td>\n",
       "      <td>242,9 mg</td>\n",
       "      <td>39,6 mg</td>\n",
       "    </tr>\n",
       "    <tr>\n",
       "      <th>1098</th>\n",
       "      <td>Fisch paniert Energie       201,6 Kcal        ...</td>\n",
       "      <td>Fisch paniert</td>\n",
       "      <td>201,6 Kcal</td>\n",
       "      <td>23,4 mg</td>\n",
       "      <td>58,2  g</td>\n",
       "      <td>27,1 mg</td>\n",
       "      <td>16,8  g</td>\n",
       "      <td>167,1 mg</td>\n",
       "      <td>8,7  g</td>\n",
       "      <td>0,8 mg</td>\n",
       "      <td>...</td>\n",
       "      <td>130,6 mg</td>\n",
       "      <td>10,4 µg</td>\n",
       "      <td>14,9  g</td>\n",
       "      <td>0,1 mg</td>\n",
       "      <td>1,0  g</td>\n",
       "      <td>0,1 mg</td>\n",
       "      <td>154,3 mg</td>\n",
       "      <td>0,2 mg</td>\n",
       "      <td>242,8 mg</td>\n",
       "      <td>0,4 mg</td>\n",
       "    </tr>\n",
       "  </tbody>\n",
       "</table>\n",
       "<p>1099 rows × 28 columns</p>\n",
       "</div>"
      ],
      "text/plain": [
       "                                                      0  \\\n",
       "0     Vollkornbrot Energie       187,6 Kcal         ...   \n",
       "1     Vollkornbrot mit Ölsamen Energie       203,6 K...   \n",
       "2     Graubrot-Toastbrot mit Schrot Energie       24...   \n",
       "3     Graubrot-Weizenmischbrot Energie       219,1 K...   \n",
       "4     Graubrot-Mehrkornbrot Energie       221,1 Kcal...   \n",
       "...                                                 ...   \n",
       "1094  Tomatensoße Energie        75,3 Kcal         M...   \n",
       "1095  Wiener Schnitzel Energie       249,0 Kcal     ...   \n",
       "1096  Wurst gemischt Energie       324,5 Kcal       ...   \n",
       "1097  Gemüsemischung roh Energie        21,2 Kcal   ...   \n",
       "1098  Fisch paniert Energie       201,6 Kcal        ...   \n",
       "\n",
       "                        Lebensmittel            Energie in Kcal  \\\n",
       "0                      Vollkornbrot         187,6 Kcal            \n",
       "1          Vollkornbrot mit Ölsamen         203,6 Kcal            \n",
       "2     Graubrot-Toastbrot mit Schrot         247,6 Kcal            \n",
       "3          Graubrot-Weizenmischbrot         219,1 Kcal            \n",
       "4             Graubrot-Mehrkornbrot         221,1 Kcal            \n",
       "...                              ...                        ...   \n",
       "1094                    Tomatensoße          75,3 Kcal            \n",
       "1095               Wiener Schnitzel         249,0 Kcal            \n",
       "1096                 Wurst gemischt         324,5 Kcal            \n",
       "1097             Gemüsemischung roh          21,2 Kcal            \n",
       "1098                  Fisch paniert         201,6 Kcal            \n",
       "\n",
       "       Magnesium in mg                  Wasser in g     Calcium in mg  \\\n",
       "0             57,0 mg            44,0  g                     22,0 mg    \n",
       "1             71,0 mg            42,4  g                     25,0 mg    \n",
       "2             48,0 mg            35,7  g                     41,0 mg    \n",
       "3             40,0 mg            41,0  g                     22,0 mg    \n",
       "4             45,0 mg            40,2  g                     25,0 mg    \n",
       "...                ...                          ...               ...   \n",
       "1094          19,9 mg            83,5  g                     20,3 mg    \n",
       "1095          24,0 mg            59,7  g                      8,5 mg    \n",
       "1096          23,9 mg            51,9  g                     19,9 mg    \n",
       "1097          13,4 mg            92,3  g                     20,1 mg    \n",
       "1098          23,4 mg            58,2  g                     27,1 mg    \n",
       "\n",
       "                      Eiweiß in g     Phosph. in mg  \\\n",
       "0               6,5  g                    232,0 mg    \n",
       "1               7,1  g                    248,0 mg    \n",
       "2               7,2  g                    181,0 mg    \n",
       "3               7,1  g                    130,0 mg    \n",
       "4               6,1  g                    142,0 mg    \n",
       "...                           ...               ...   \n",
       "1094            1,6  g                     33,9 mg    \n",
       "1095           17,3  g                    171,2 mg    \n",
       "1096           15,6  g                    231,9 mg    \n",
       "1097            1,0  g                     28,1 mg    \n",
       "1098           16,8  g                    167,1 mg    \n",
       "\n",
       "                          Fett in g         Eisen in mg  ...  \\\n",
       "0                 1,0  g                        2,7 mg   ...   \n",
       "1                 3,0  g                        2,8 mg   ...   \n",
       "2                 3,5  g                        2,2 mg   ...   \n",
       "3                 0,9  g                        1,7 mg   ...   \n",
       "4                 1,0  g                        1,9 mg   ...   \n",
       "...                             ...                 ...  ...   \n",
       "1094              4,4  g                        0,7 mg   ...   \n",
       "1095             15,4  g                        1,5 mg   ...   \n",
       "1096             28,8  g                        3,0 mg   ...   \n",
       "1097              0,3  g                        0,8 mg   ...   \n",
       "1098              8,7  g                        0,8 mg   ...   \n",
       "\n",
       "                   Harnsr. in mg         Fols. in µg  \\\n",
       "0             57,0 mg                       15,0 µg    \n",
       "1             61,0 mg                       17,0 µg    \n",
       "2             74,0 mg                       22,0 µg    \n",
       "3             49,0 mg                       12,0 µg    \n",
       "4             53,0 mg                       13,0 µg    \n",
       "...                          ...                 ...   \n",
       "1094          13,6 mg                        5,9 µg    \n",
       "1095         118,5 mg                        4,7 µg    \n",
       "1096         124,0 mg                        5,7 µg    \n",
       "1097          11,5 mg                       18,1 µg    \n",
       "1098         130,6 mg                       10,4 µg    \n",
       "\n",
       "                    tie. EW in g     Vit. B1 in mg  \\\n",
       "0              0,0  g                      0,1 mg    \n",
       "1              0,0  g                      0,2 mg    \n",
       "2              0,5  g                      0,2 mg    \n",
       "3              0,0  g                      0,2 mg    \n",
       "4              0,0  g                      0,2 mg    \n",
       "...                          ...               ...   \n",
       "1094           0,0  g                      0,0 mg    \n",
       "1095          16,4  g                      0,7 mg    \n",
       "1096          15,4  g                      0,5 mg    \n",
       "1097           0,0  g                      0,0 mg    \n",
       "1098          14,9  g                      0,1 mg    \n",
       "\n",
       "                            BST in g     Vit. B2 in mg  \\\n",
       "0                  8,5  g                      0,1 mg    \n",
       "1                  8,4  g                      0,1 mg    \n",
       "2                  4,9  g                      0,2 mg    \n",
       "3                  3,9  g                      0,1 mg    \n",
       "4                  4,7  g                      0,1 mg    \n",
       "...                              ...               ...   \n",
       "1094               2,3  g                      0,0 mg    \n",
       "1095               0,4  g                      0,2 mg    \n",
       "1096               0,1  g                      0,3 mg    \n",
       "1097               2,0  g                      0,1 mg    \n",
       "1098               1,0  g                      0,1 mg    \n",
       "\n",
       "                   Natrium in mg     Vit. B6 in mg  \\\n",
       "0            562,0 mg                      0,2 mg    \n",
       "1            539,0 mg                      0,2 mg    \n",
       "2            507,0 mg                      0,2 mg    \n",
       "3            508,0 mg                      0,1 mg    \n",
       "4            417,0 mg                      0,2 mg    \n",
       "...                          ...               ...   \n",
       "1094         338,8 mg                      0,1 mg    \n",
       "1095          93,0 mg                      0,4 mg    \n",
       "1096         914,7 mg                      0,3 mg    \n",
       "1097          17,1 mg                      0,1 mg    \n",
       "1098         154,3 mg                      0,2 mg    \n",
       "\n",
       "                     Kalium in mg        Vit. C in mg  \n",
       "0             289,0 mg                       0,0 mg    \n",
       "1             306,0 mg                       0,0 mg    \n",
       "2             240,0 mg                       0,1 mg    \n",
       "3             157,0 mg                       0,0 mg    \n",
       "4             176,0 mg                       0,0 mg    \n",
       "...                           ...                 ...  \n",
       "1094          346,8 mg                      12,7 mg    \n",
       "1095          324,4 mg                       0,0 mg    \n",
       "1096          293,7 mg                      13,1 mg    \n",
       "1097          242,9 mg                      39,6 mg    \n",
       "1098          242,8 mg                       0,4 mg    \n",
       "\n",
       "[1099 rows x 28 columns]"
      ]
     },
     "execution_count": 38,
     "metadata": {},
     "output_type": "execute_result"
    }
   ],
   "source": [
    "dx"
   ]
  },
  {
   "cell_type": "markdown",
   "metadata": {},
   "source": [
    "The complete dataset has a unncessary frame '0' that needs to be removed. Moreover the units in the rows are removed."
   ]
  },
  {
   "cell_type": "code",
   "execution_count": 39,
   "metadata": {},
   "outputs": [],
   "source": [
    "dx.drop(columns=[0], inplace=True)"
   ]
  },
  {
   "cell_type": "code",
   "execution_count": 40,
   "metadata": {},
   "outputs": [],
   "source": [
    "#dx.to_csv('Lebensmitteltabelle.csv', index=False)"
   ]
  },
  {
   "cell_type": "code",
   "execution_count": 41,
   "metadata": {},
   "outputs": [],
   "source": [
    "dx['Energie in Kcal']=dx['Energie in Kcal'].str.replace('Kcal','')"
   ]
  },
  {
   "cell_type": "code",
   "execution_count": 42,
   "metadata": {},
   "outputs": [],
   "source": [
    "dx['Magnesium in mg']=dx['Magnesium in mg'].str.replace('mg','')"
   ]
  },
  {
   "cell_type": "code",
   "execution_count": 43,
   "metadata": {},
   "outputs": [],
   "source": [
    "dx['Wasser in g']=dx['Wasser in g'].str.replace('g','')"
   ]
  },
  {
   "cell_type": "code",
   "execution_count": 44,
   "metadata": {},
   "outputs": [],
   "source": [
    "dx['Calcium in mg']=dx['Calcium in mg'].str.replace('mg','')"
   ]
  },
  {
   "cell_type": "code",
   "execution_count": 45,
   "metadata": {},
   "outputs": [],
   "source": [
    "dx['Eiweiß in g']=dx['Eiweiß in g'].str.replace('g','')"
   ]
  },
  {
   "cell_type": "code",
   "execution_count": 46,
   "metadata": {},
   "outputs": [],
   "source": [
    "dx['Phosph. in mg']=dx['Phosph. in mg'].str.replace('mg','')"
   ]
  },
  {
   "cell_type": "code",
   "execution_count": 47,
   "metadata": {},
   "outputs": [],
   "source": [
    "dx['Fett in g']=dx['Fett in g'].str.replace('g','')"
   ]
  },
  {
   "cell_type": "code",
   "execution_count": 48,
   "metadata": {},
   "outputs": [],
   "source": [
    "dx['Eisen in mg']=dx['Eisen in mg'].str.replace('mg','')"
   ]
  },
  {
   "cell_type": "code",
   "execution_count": 49,
   "metadata": {},
   "outputs": [],
   "source": [
    "dx['KH in g']=dx['KH in g'].str.replace('g','')"
   ]
  },
  {
   "cell_type": "code",
   "execution_count": 50,
   "metadata": {},
   "outputs": [],
   "source": [
    "dx['Zink in mg']=dx['Zink in mg'].str.replace('mg','')"
   ]
  },
  {
   "cell_type": "code",
   "execution_count": 51,
   "metadata": {},
   "outputs": [],
   "source": [
    "dx['ung. FS in g']=dx['ung. FS in g'].str.replace('g','')"
   ]
  },
  {
   "cell_type": "code",
   "execution_count": 52,
   "metadata": {},
   "outputs": [],
   "source": [
    "dx['Vit. A in µg']=dx['Vit. A in µg'].str.replace('µg','')"
   ]
  },
  {
   "cell_type": "code",
   "execution_count": 53,
   "metadata": {},
   "outputs": [],
   "source": [
    "dx['Chol. in mg']=dx['Chol. in mg'].str.replace('mg','')"
   ]
  },
  {
   "cell_type": "code",
   "execution_count": 54,
   "metadata": {},
   "outputs": [],
   "source": [
    "dx['Carotin in mg']=dx['Carotin in mg'].str.replace('mg','')"
   ]
  },
  {
   "cell_type": "code",
   "execution_count": 55,
   "metadata": {},
   "outputs": [],
   "source": [
    "dx['Alkohol in g']=dx['Alkohol in g'].str.replace('g','')"
   ]
  },
  {
   "cell_type": "code",
   "execution_count": 56,
   "metadata": {},
   "outputs": [],
   "source": [
    "dx['Vit. E in mg']=dx['Vit. E in mg'].str.replace('mg','')"
   ]
  },
  {
   "cell_type": "code",
   "execution_count": 57,
   "metadata": {},
   "outputs": [],
   "source": [
    "dx['Harnsr. in mg']=dx['Harnsr. in mg'].str.replace('mg','')"
   ]
  },
  {
   "cell_type": "code",
   "execution_count": 58,
   "metadata": {},
   "outputs": [],
   "source": [
    "dx['Fols. in µg']=dx['Fols. in µg'].str.replace('µg','')"
   ]
  },
  {
   "cell_type": "code",
   "execution_count": 59,
   "metadata": {},
   "outputs": [],
   "source": [
    "dx['tie. EW in g']=dx['tie. EW in g'].str.replace('g','')"
   ]
  },
  {
   "cell_type": "code",
   "execution_count": 60,
   "metadata": {},
   "outputs": [],
   "source": [
    "dx['Vit. B1 in mg']=dx['Vit. B1 in mg'].str.replace('mg','')"
   ]
  },
  {
   "cell_type": "code",
   "execution_count": 61,
   "metadata": {},
   "outputs": [],
   "source": [
    "dx['BST in g']=dx['BST in g'].str.replace('g','')"
   ]
  },
  {
   "cell_type": "code",
   "execution_count": 62,
   "metadata": {},
   "outputs": [],
   "source": [
    "dx['Vit. B2 in mg']=dx['Vit. B2 in mg'].str.replace('mg','')"
   ]
  },
  {
   "cell_type": "code",
   "execution_count": 63,
   "metadata": {},
   "outputs": [],
   "source": [
    "dx['Natrium in mg']=dx['Natrium in mg'].str.replace('mg','')"
   ]
  },
  {
   "cell_type": "code",
   "execution_count": 64,
   "metadata": {},
   "outputs": [],
   "source": [
    "dx['Vit. B6 in mg']=dx['Vit. B6 in mg'].str.replace('mg','')"
   ]
  },
  {
   "cell_type": "code",
   "execution_count": 65,
   "metadata": {},
   "outputs": [],
   "source": [
    "dx['Kalium in mg']=dx['Kalium in mg'].str.replace('mg','')"
   ]
  },
  {
   "cell_type": "code",
   "execution_count": 66,
   "metadata": {},
   "outputs": [],
   "source": [
    "dx['Vit. C in mg']=dx['Vit. C in mg'].str.replace('mg','')"
   ]
  },
  {
   "cell_type": "markdown",
   "metadata": {},
   "source": [
    "Finally the cleaned dataset is stored in a csv file"
   ]
  },
  {
   "cell_type": "code",
   "execution_count": 67,
   "metadata": {},
   "outputs": [],
   "source": [
    "dx.to_csv('Lebensmitteltabelle.csv', index=False)"
   ]
  }
 ],
 "metadata": {
  "kernelspec": {
   "display_name": "aiss",
   "language": "python",
   "name": "aiss"
  },
  "language_info": {
   "codemirror_mode": {
    "name": "ipython",
    "version": 3
   },
   "file_extension": ".py",
   "mimetype": "text/x-python",
   "name": "python",
   "nbconvert_exporter": "python",
   "pygments_lexer": "ipython3",
   "version": "3.8.5"
  }
 },
 "nbformat": 4,
 "nbformat_minor": 4
}
